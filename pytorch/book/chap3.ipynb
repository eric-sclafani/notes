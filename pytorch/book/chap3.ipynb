{
 "cells": [
  {
   "cell_type": "markdown",
   "metadata": {},
   "source": [
    "# Chapter 3: Foundational Components of Neural Networks\n",
    "\n",
    "--------------------------\n",
    "\n",
    "# The Perceptron\n",
    "\n",
    "The simplest neural network is the `perceptron`. The `perceptron` was historically and loosely modeled after the biological neuron\n",
    "\n",
    "Each `perceptron` unit has an **input ($x$)**, an **output ($y$)**, and three \"knobs\": **set of weights ($w$)**, a **bias($b$)**, and an **activation function ($f$)**\n",
    "\n",
    "The **weights**and **bias** are learned from the data, and the **activation function** is selected by the programmer.\n",
    "\n",
    "Mathematically, we can express this as follows:\n",
    "\n",
    "> $y$ = $f$($wx$ + $b$)\n",
    "\n",
    "where: \n",
    "- $x$ = vector of input values\n",
    "- $w$ = vector of weights\n",
    "- $b$ = bias value\n",
    "- $f$ = activation function\n",
    "\n",
    "In the above equation, $x$ consists of $n$-number of values and each value has a weight $w$ associated with it. Therefore, we take the `dot product` of the two.\n",
    "\n",
    "`Activation functions` are **typically nonlinear**. Above, since  ($wx$ + $b$) is a linear function, a `perceptron` is essentially **a composition of a linear and nonlinear function**.\n",
    "\n",
    "Note: the linear function ($wx$ + $b$) is also known as an `affine transformation`\n",
    "\n",
    "-------\n",
    "Below is code showing an implementation of the `perceptron` in pytorch.\n",
    "\n",
    "Torch's `Linear` class in the **torch.nn** module does the bookkeeping needed for the weights and biases, and also applies the `affine` transformation. "
   ]
  },
  {
   "cell_type": "code",
   "execution_count": 25,
   "metadata": {},
   "outputs": [],
   "source": [
    "import torch\n",
    "import torch.nn as nn\n",
    "import torch.optim as optim\n",
    "import matplotlib.pyplot as plt\n",
    "import seaborn as sns\n",
    "%matplotlib inline\n",
    "\n",
    "class Perceptron(nn.Module):\n",
    "    \"\"\"A perceptron is one linear layer\"\"\"\n",
    "    def __init__(self, input_dim):\n",
    "        \"\"\"\n",
    "        Args:\n",
    "            input_dim (int): size of the input features\n",
    "        \"\"\"\n",
    "        \n",
    "        super(Perceptron, self).__init__()\n",
    "        self.fc1 = nn.Linear(input_dim,1)\n",
    "        \n",
    "    def forward(self, x_in):\n",
    "        \"\"\"The forward pass through the perceptron\n",
    "        \n",
    "        Args:\n",
    "            x_in (torch.Tensor): an input data tensor\n",
    "        \n",
    "        Returns:\n",
    "            result tensor: tensor.shape should be (batch,)\n",
    "        \"\"\"\n",
    "        return torch.sigmoid(self.fc1(x_in)).squeeze()\n",
    "        \n",
    "        \n"
   ]
  },
  {
   "cell_type": "markdown",
   "metadata": {},
   "source": [
    "# Activation functions\n",
    "\n",
    "`Activation functions` are nonlinear functions intended to capture complex relationships in data. Many different ones exist, with the most common being:\n",
    "- sigmoid\n",
    "- tanH\n",
    "- ReLu\n",
    "- softmax\n",
    "\n",
    "\n",
    "## Sigmoid\n",
    "\n",
    "`Sigmoid` is one of the earliest activation functions in neural network history. **It takes any real number and squashes it into the range between 0 and 1**.\n",
    "\n",
    "<font size=\"5\">$f$($x$) = $\\frac{1}{1 + e^{-x}}$</font>\n",
    "\n",
    "As seen in the plot below, `Sigmoid` tends to produce extreme valued outputs very quickly. This is problematic because it can lead to the **gradient becoming zero** or becoming **dangerously small (overloading floating points)**.\n",
    "\n",
    "Because of this, sigmoid is usually only used in the output layer, where the squashing property allows one to interptet the outputs as probabilities."
   ]
  },
  {
   "cell_type": "code",
   "execution_count": 2,
   "metadata": {},
   "outputs": [
    {
     "data": {
      "image/png": "[encoded data removed]",
      "text/plain": [
       "<Figure size 432x288 with 1 Axes>"
      ]
     },
     "metadata": {},
     "output_type": "display_data"
    }
   ],
   "source": [
    "x = torch.arange(-5, 5, .1)\n",
    "y = torch.sigmoid(x)\n",
    "\n",
    "sns.set_theme()\n",
    "plt.title(\"Sigmoid\")\n",
    "plt.xlabel(\"x-axis\")\n",
    "plt.ylabel(\"y-axis\")\n",
    "plt.plot(x.numpy(),y.numpy())\n",
    "plt.show()\n"
   ]
  },
  {
   "cell_type": "markdown",
   "metadata": {},
   "source": [
    "## tanh \n",
    "\n",
    "`tanh` (hyperbolic tangent) is a variant of **sigmoid**. Its actually a **linear transformation** of sigmoid. Unlike sigmoid, `tanh` maps values to a range of [-1,1]\n",
    "\n",
    "<font size=\"5\">$f$($x$) = tanh $x$ = $\\frac{e^{x}- e^{-x}}{e^{x} + e^{-x}}$</font>"
   ]
  },
  {
   "cell_type": "code",
   "execution_count": 3,
   "metadata": {},
   "outputs": [
    {
     "data": {
      "image/png": "[encoded data removed]",
      "text/plain": [
       "<Figure size 432x288 with 1 Axes>"
      ]
     },
     "metadata": {},
     "output_type": "display_data"
    }
   ],
   "source": [
    "x = torch.arange(-5, 5, .1)\n",
    "y = torch.tanh(x)\n",
    "\n",
    "plt.title(\"tanh\")\n",
    "plt.xlabel(\"x-axis\")\n",
    "plt.ylabel(\"y-axis\")\n",
    "plt.plot(x.numpy(), y.numpy())\n",
    "plt.show()"
   ]
  },
  {
   "cell_type": "markdown",
   "metadata": {},
   "source": [
    "## ReLU\n",
    "\n",
    "`ReLU` (retified linear unit) is the most widely used activation functions. All `ReLU` does is take the **max** between the value $x$ and 0\n",
    "\n",
    "$f$($x$) = max(0,$x$)\n",
    "\n",
    "This clipping effect of `ReLU` helps with the vanishing gradient problem by discarding negative values, but can lead to a problem in which **certain outputs become zero and can never revive again.** \n",
    "\n",
    "This is called the `\"dying ReLU\"` problem and can be mitigated by using variants of ReLU, called ``Leaky ReLU`` and `Parametric ReLU` (PReLU), where $a$ is a learnable parameter\n",
    "\n",
    "$f$($x$) = max(x,$ax$)\n",
    "\n"
   ]
  },
  {
   "cell_type": "code",
   "execution_count": 4,
   "metadata": {},
   "outputs": [
    {
     "data": {
      "image/png": "[encoded data removed]",
      "text/plain": [
       "<Figure size 432x288 with 1 Axes>"
      ]
     },
     "metadata": {},
     "output_type": "display_data"
    },
    {
     "data": {
      "image/png": "[encoded data removed]",
      "text/plain": [
       "<Figure size 432x288 with 1 Axes>"
      ]
     },
     "metadata": {},
     "output_type": "display_data"
    }
   ],
   "source": [
    "relu = torch.nn.ReLU()\n",
    "\n",
    "x = torch.arange(-5,5,0.1)\n",
    "y = relu(x)\n",
    "\n",
    "plt.title(\"ReLU\")\n",
    "plt.xlabel(\"x-axis\")\n",
    "plt.ylabel(\"y-axis\")\n",
    "plt.plot(x.numpy(), y.numpy())\n",
    "plt.show()\n",
    "\n",
    "\n",
    "prelu = torch.nn.PReLU(num_parameters=1)\n",
    "y = prelu(x)\n",
    "\n",
    "plt.title(\"PReLU\")\n",
    "plt.xlabel(\"x-axis\")\n",
    "plt.ylabel(\"y-axis\")\n",
    "plt.plot(x.detach().numpy(), y.detach().numpy())\n",
    "plt.show()\n"
   ]
  },
  {
   "cell_type": "markdown",
   "metadata": {},
   "source": [
    "## Softmax\n",
    "\n",
    "`Softmax` also squashes values between [0,1]. However, `softmax` also divides each output by the sum of all outputs, which **gives us a discrete probability distribution over $k$ possible classes.**\n",
    "\n",
    " <font size=\"5\"> $softmax$ ($x_{i}$) = $\\frac{e^{x_{i}}}{\\sum_{j=1}^k e^{x_{i}}}$</font>\n",
    "\n"
   ]
  },
  {
   "cell_type": "code",
   "execution_count": 5,
   "metadata": {},
   "outputs": [
    {
     "name": "stdout",
     "output_type": "stream",
     "text": [
      "tensor([[0.5400, 0.3200, 0.7900],\n",
      "        [0.5100, 0.1000, 0.0700]])\n",
      "tensor([[0.3240, 0.2600, 0.4160],\n",
      "        [0.4333, 0.2876, 0.2791]])\n",
      "~~~~~~~~~~~~~~~~~~~~~~~~~~~~~~\n",
      "tensor([[0.5400, 0.3200, 0.7900],\n",
      "        [0.5100, 0.1000, 0.0700]])\n",
      "tensor([[0.5075, 0.5548, 0.6726],\n",
      "        [0.4925, 0.4452, 0.3274]])\n"
     ]
    }
   ],
   "source": [
    "softmax = nn.Softmax(dim=1) # see\\tting dim=1 makes softmax apply to the scalar values within the tensor\n",
    "\n",
    "x_input = torch.tensor([[.54, .32, .79],\n",
    "                        [.51, .1, .07]])\n",
    "y_output = softmax(x_input)\n",
    "\n",
    "print(x_input)\n",
    "print(y_output)\n",
    "\n",
    "softmax = nn.Softmax(dim=0) # dim=0 makes softmax apply column-wise\n",
    "\n",
    "x_input = torch.tensor([[.54, .32, .79],\n",
    "                        [.51, .1, .07]])\n",
    "y_output = softmax(x_input)\n",
    "print(\"~\"*30)\n",
    "print(x_input)\n",
    "print(y_output)\n"
   ]
  },
  {
   "cell_type": "markdown",
   "metadata": {},
   "source": [
    "# Common Loss Functions\n",
    "\n",
    "`Loss functions` (or objective functions) help guide the training algorithm to pick the correct parameters by looking at the data. \n",
    "\n",
    "Loss functions compute an **error value** between the `target y-value` ($y$) and the models `predicted y-value` ($\\hat{y}$)\n",
    "\n",
    "The goal of `stochastic gradient descent` is to minimize the error as best as it can. Higher error = worse predictions\n",
    "\n",
    "\n",
    "## Mean squared error\n",
    "\n",
    "`Mean squared error` (MSE) is a common loss function used for **regression** problems. That is, when we are trying to **predict a continuous value**.\n",
    "\n",
    " <font size=\"5\"> $L_{MSE}(y, \\hat{y}) = \\frac{1}{n}\\sum_{i=1}^n(y - \\hat{y})^2$ </font>\n",
    "\n",
    "Other options for regression exist such as `RMSE` (root mean squared error), `MAE` (mean absolute error), `R-squared` "
   ]
  },
  {
   "cell_type": "code",
   "execution_count": 17,
   "metadata": {},
   "outputs": [
    {
     "name": "stdout",
     "output_type": "stream",
     "text": [
      "tensor(1.1615, grad_fn=<MseLossBackward0>)\n"
     ]
    }
   ],
   "source": [
    "mse_loss = nn.MSELoss()\n",
    "outputs = torch.randn(3,5, requires_grad=True)\n",
    "targets = torch.randn(3,5)\n",
    "\n",
    "loss = mse_loss(outputs, targets)\n",
    "print(loss)"
   ]
  },
  {
   "cell_type": "markdown",
   "metadata": {},
   "source": [
    "## Categorical Cross Entropy\n",
    "\n",
    "`Categorical cross entropy` is typically used in **multiclass classification** in which the outputs are interpreted as predictions of class membership probabilities.\n",
    "\n",
    "The **target** ($y$) is a vector of $n$ elements that represents the true multinomial distribution over all the classes. \n",
    "\n",
    "If only one class is correct, this vector is a one-hot. The network's output ($\\hat{y}$) is also a vector of $n$ elements, but represents the network's prediction of the multinomial distribution. \n",
    "\n",
    "Categorical cross entropy will compare these two vectors ($y,\\hat{y}$) to measure the loss\n",
    "\n",
    "<font size=\"5\"> $L_{cross\\_entropy}(y, \\hat{y}) = - \\sum_{i}y_{i}log(\\hat{y}_{i})$ </font>\n",
    "\n",
    "In the code below a vector of random values is used to simulate network outputs. \n",
    "\n",
    "Then a **targets** vector of integers is created. \n",
    "\n",
    "`nn.CrossEntropyLoss()` assumes that each input has one particular class, and each class has a unique index. This is why the **targets** vector has three elements: an index representing the correct class for each input.\n",
    "\n",
    "\n"
   ]
  },
  {
   "cell_type": "code",
   "execution_count": 21,
   "metadata": {},
   "outputs": [
    {
     "name": "stdout",
     "output_type": "stream",
     "text": [
      "tensor([[ 0.2535,  0.1372,  1.8722, -1.2940, -0.7986],\n",
      "        [-1.3005, -0.1062,  0.7338,  0.2320,  0.2256],\n",
      "        [-0.8215,  1.3480, -0.7388, -0.3489,  1.1995]], requires_grad=True)\n",
      "tensor([1, 0, 3])\n",
      "tensor(2.5689, grad_fn=<NllLossBackward0>)\n"
     ]
    }
   ],
   "source": [
    "ce_loss = nn.CrossEntropyLoss()\n",
    "outputs = torch.randn(3,5, requires_grad=True)\n",
    "targets = torch.tensor([1,0,3], dtype=torch.int64)\n",
    "loss = ce_loss(outputs, targets)\n",
    "\n",
    "print(outputs)\n",
    "print(targets)\n",
    "print(loss)"
   ]
  },
  {
   "cell_type": "markdown",
   "metadata": {},
   "source": [
    "## Binary Cross Entropy\n",
    "\n",
    "For **binary classification**, we have `binary cross entropy` as well. \n",
    "\n",
    "In the cose below, we create a **binary probability output vector**, *probabilities*, using the `sigmoid` activation function on a random vector that represents the network's output. \n",
    "\n",
    "Next, the ground truth (**targets**) is instantiated as a vector of 0s and 1s. These are both of our classes."
   ]
  },
  {
   "cell_type": "code",
   "execution_count": 24,
   "metadata": {},
   "outputs": [
    {
     "name": "stdout",
     "output_type": "stream",
     "text": [
      "tensor([[0.6400],\n",
      "        [0.5035],\n",
      "        [0.9575],\n",
      "        [0.7901]], grad_fn=<SigmoidBackward0>)\n",
      "tensor([[1.],\n",
      "        [0.],\n",
      "        [1.],\n",
      "        [0.]])\n",
      "tensor(0.6877, grad_fn=<BinaryCrossEntropyBackward0>)\n"
     ]
    }
   ],
   "source": [
    "bce_loss = nn.BCELoss()\n",
    "siggy = nn.Sigmoid()\n",
    "\n",
    "probabilities = siggy(torch.randn(4,1,requires_grad=True))\n",
    "targets = torch.tensor([1,0,1,0], dtype=torch.float32).reshape(4,1)\n",
    "loss = bce_loss(probabilities, targets)\n",
    "\n",
    "print(probabilities)\n",
    "print(targets)\n",
    "print(loss)"
   ]
  },
  {
   "cell_type": "markdown",
   "metadata": {},
   "source": [
    "# Optimizers\n",
    "\n",
    "`Stochastic gradient descent` is the classic optimization algorithm, but it runs into convergence problems with more difficult optimization tasks.\n",
    "\n",
    "The current preferred optimizers are `Adam` and `Adagrad`"
   ]
  },
  {
   "cell_type": "code",
   "execution_count": 26,
   "metadata": {},
   "outputs": [],
   "source": [
    "input_dim = 2\n",
    "lr = 0.001\n",
    "\n",
    "perceptron = Perceptron(input_dim=input_dim)\n",
    "bce_loss = nn.BCELoss()\n",
    "optimizer = optim.Adam(params=perceptron.parameters(), lr=lr)"
   ]
  },
  {
   "cell_type": "code",
   "execution_count": null,
   "metadata": {},
   "outputs": [],
   "source": []
  }
 ],
 "metadata": {
  "kernelspec": {
   "display_name": "Python 3.9.7 ('base')",
   "language": "python",
   "name": "python3"
  },
  "language_info": {
   "codemirror_mode": {
    "name": "ipython",
    "version": 3
   },
   "file_extension": ".py",
   "mimetype": "text/x-python",
   "name": "python",
   "nbconvert_exporter": "python",
   "pygments_lexer": "ipython3",
   "version": "3.9.7"
  },
  "orig_nbformat": 4,
  "vscode": {
   "interpreter": {
    "hash": "74257a0a5c0181bc4827c74976dbddecd68f5367eb1980f961c7a318e63ecaee"
   }
  }
 },
 "nbformat": 4,
 "nbformat_minor": 2
}
