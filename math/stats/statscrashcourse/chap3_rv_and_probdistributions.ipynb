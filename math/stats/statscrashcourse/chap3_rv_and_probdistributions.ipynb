{
 "cells": [
  {
   "cell_type": "markdown",
   "metadata": {},
   "source": [
    "# Chapter 3 Notes\n",
    "\n",
    "------\n",
    "\n",
    "## Random Variables\n",
    "\n",
    "Randomly picking up a student from a university class and measuring the their height or weight is a random process.\n",
    "\n",
    "We can define a `random variable` as a **real valued function** of a sample space, where the sample space is the grouping of all possible outcomes of an experiment.\n",
    "\n",
    "Another definition can be: a numerical description of **the outcome of a statistical experiment**.\n",
    "\n",
    "For example:\n",
    "- The set of numbers from 1-6 is a sample space for rolling dice once. In this case, the `random variable` can take on any value from 1 to 6.\n",
    "\n",
    "- The time it takes for a bus to go from **station A** to **station B** is a random variable. If maximum distance = $T$, the sample space is $[0,T] = \\{t:0\\le t \\le T\\}$.\\\n",
    "Thus, that means that the `random variable`, $t$, can assume any length of time in the interval $[0,T]$. The sample space is **`continuous`**.\n",
    "\n",
    "## Qualitative and Quantitative Variables\n",
    "\n",
    "**`Qualitative`** variables are **not measured or counted**. These have non-numeric outcomes.\n",
    "\n",
    "Example:\n",
    "- names of animals, types of cars, gender\n",
    "\n",
    "**`Quantitative`** variables are measurable or countable. The outcome of these variables are numeric.\n",
    "\n",
    "There are two types of **`quantitative`** variables:\n",
    "\n",
    "- `Discrete random variables` - have a countable \\# of possible outcomes. **For example**: counting the number of students in a classroom\n",
    "    \n",
    "    \n",
    "- `Continious random variables` - measured values that can assume any valid value over a continuous scale. **For example**: measuring height, weight, age, time"
   ]
  },
  {
   "cell_type": "code",
   "execution_count": 1,
   "metadata": {},
   "outputs": [
    {
     "name": "stdout",
     "output_type": "stream",
     "text": [
      "Random integer: 11\n",
      "Random float: 0.27303141440495204\n",
      "nd-array of random integers: \n",
      "[[ 7 11 10]\n",
      " [13 35 18]\n",
      " [44 31  0]\n",
      " [43 20  8]]\n",
      "\n",
      "nd-array of random floats from a uniform distribution: \n",
      "[[0.36598789 0.8526093  0.85872823 0.15495969]\n",
      " [0.30952089 0.67765668 0.67072954 0.55720353]\n",
      " [0.4564217  0.52397049 0.76023721 0.32945069]]\n",
      "\n",
      "nd-array of random floats from a Gaussian distribution: \n",
      "[[ 0.32791194 -1.6533676 ]\n",
      " [ 2.62773541 -0.47554887]\n",
      " [ 0.19791572 -0.52541986]]\n"
     ]
    }
   ],
   "source": [
    "import numpy as np\n",
    "from numpy.random import rand, randint, randn, uniform\n",
    "\n",
    "# generate a random integer from 0 to 50\n",
    "x = randint(50)\n",
    "\n",
    "# generate a random floating point number from 0 to 1\n",
    "y = rand()\n",
    "\n",
    "# size lets you make an nd-array of random integers\n",
    "x1d = randint(50, size=(4,3))\n",
    "\n",
    "# generate nd-array of random floats from a uniform distribution\n",
    "y1d = rand(3,4)\n",
    "\n",
    "# generate nd-array of random floats from a Gaussian distribution\n",
    "y2d = randn(3,2)\n",
    "\n",
    "print(f\"Random integer: {x}\")\n",
    "print(f\"Random float: {y}\")\n",
    "print(f\"nd-array of random integers: \\n{x1d}\")\n",
    "print(f\"\\nnd-array of random floats from a uniform distribution: \\n{y1d}\")\n",
    "print(f\"\\nnd-array of random floats from a Gaussian distribution: \\n{y2d}\")"
   ]
  },
  {
   "cell_type": "markdown",
   "metadata": {},
   "source": [
    "When generating arrays of `uniformly distributed` random variables, two options exist in numpy:\n",
    "\n",
    "- `np.random.rand` - range of values is set to [0,1]\n",
    "- `np.random.uniform` - allows you to customize the range."
   ]
  },
  {
   "cell_type": "code",
   "execution_count": 2,
   "metadata": {},
   "outputs": [
    {
     "name": "stdout",
     "output_type": "stream",
     "text": [
      "Array of uniform values of range [10,20]: \n",
      "[[17.820059   15.60589958 18.06191565 11.09136064]\n",
      " [18.93227862 12.15493822 10.47134687 14.16357534]]\n"
     ]
    }
   ],
   "source": [
    "a,b = 10,20\n",
    "\n",
    "uniform_array = uniform(a,b,size=(2,4))\n",
    "\n",
    "print(f\"Array of uniform values of range [{a},{b}]: \\n{uniform_array}\")\n"
   ]
  },
  {
   "cell_type": "markdown",
   "metadata": {},
   "source": [
    "## Probability Mass Function (PMF)\n",
    "\n",
    "The `probability mass function` gives the probability that a **discrete random variable** will be equal to a specific variable. "
   ]
  },
  {
   "cell_type": "code",
   "execution_count": 20,
   "metadata": {},
   "outputs": [
    {
     "name": "stdout",
     "output_type": "stream",
     "text": [
      "Outcome values: [0. 1. 2.]\n",
      "Outcome counts: [27 53 20]\n",
      "Count probabilities: [0.27 0.53 0.2 ]\n"
     ]
    },
    {
     "data": {
      "image/png": "[encoded data removed]",
      "text/plain": [
       "<Figure size 432x288 with 1 Axes>"
      ]
     },
     "metadata": {},
     "output_type": "display_data"
    }
   ],
   "source": [
    "import matplotlib.pyplot as plt\n",
    "import seaborn as sns\n",
    "%matplotlib inline\n",
    "sns.set_theme()\n",
    "\n",
    "# repeat the experiments multiple times to get a better result of probabilities\n",
    "num_experiments = 100\n",
    "\n",
    "# saves the number of tails got from each run of the experiment\n",
    "total_num_tails = np.zeros(num_experiments)\n",
    "\n",
    "for i in range(num_experiments):\n",
    "    \n",
    "    # simulate flipping two coins at once\n",
    "    outcome1 = np.random.choice([\"H\", \"T\"])\n",
    "    outcome2 = np.random.choice([\"H\", \"T\"])\n",
    "    \n",
    "    # counting frequency of tails from outcome 1 and 2\n",
    "    if outcome1 + outcome2 == \"HH\":\n",
    "        num_tails = 0\n",
    "    \n",
    "    elif outcome1 + outcome2 == \"HT\" or outcome1 + outcome2 == \"TH\":\n",
    "        num_tails = 1\n",
    "        \n",
    "    else:\n",
    "        num_tails = 2\n",
    "    \n",
    "    # saves the number of tails from each experiment at different indices\n",
    "    total_num_tails[i] = num_tails\n",
    "    \n",
    "outcome_values, outcome_count = np.unique(total_num_tails, return_counts=True)\n",
    "print(f\"Outcome values: {outcome_values}\")\n",
    "print(f\"Outcome counts: {outcome_count}\")\n",
    "\n",
    "# calculate the probability of each outcome\n",
    "#  element wise division\n",
    "prob_count = outcome_count / len(total_num_tails) # same as: np.divide(outcome_count, len(total_num_tails))\n",
    "print(f\"Count probabilities: {prob_count}\") \n",
    "    \n",
    "sns.barplot(x=outcome_values, y=prob_count)\n",
    "plt.xlabel(\"Outcomes\")\n",
    "plt.ylabel(\"Probabilities\")\n",
    "plt.show()"
   ]
  },
  {
   "cell_type": "code",
   "execution_count": null,
   "metadata": {},
   "outputs": [],
   "source": []
  }
 ],
 "metadata": {
  "kernelspec": {
   "display_name": "Python 3.8.10 64-bit",
   "language": "python",
   "name": "python3"
  },
  "language_info": {
   "codemirror_mode": {
    "name": "ipython",
    "version": 3
   },
   "file_extension": ".py",
   "mimetype": "text/x-python",
   "name": "python",
   "nbconvert_exporter": "python",
   "pygments_lexer": "ipython3",
   "version": "3.8.10"
  },
  "orig_nbformat": 4,
  "vscode": {
   "interpreter": {
    "hash": "916dbcbb3f70747c44a77c7bcd40155683ae19c65e1c03b4aa3499c5328201f1"
   }
  }
 },
 "nbformat": 4,
 "nbformat_minor": 2
}
