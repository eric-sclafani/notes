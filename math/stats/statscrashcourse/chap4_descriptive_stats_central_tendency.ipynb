{
 "cells": [
  {
   "cell_type": "markdown",
   "metadata": {},
   "source": [
    "# Chapter 4 Notes\n",
    "\n",
    "`Note`: notes on this chapter will be minimal due to me already having a good understanding of this chapter's material\n",
    "\n",
    "-----\n",
    "\n",
    "# Measures of Central Tendency\n",
    "\n",
    "The `statistics` and `numpy` modules both have ways of calculating the **mean and median**, while only the former can caluclate the **mode**"
   ]
  },
  {
   "cell_type": "code",
   "execution_count": 11,
   "metadata": {},
   "outputs": [
    {
     "name": "stdout",
     "output_type": "stream",
     "text": [
      "Mean: 4.333333333333333\n",
      "Median: 4.0\n",
      "Mode: 8\n"
     ]
    }
   ],
   "source": [
    "import statistics as st\n",
    "\n",
    "raindata = [2,5,4,4,0,2,7,8,8,8,1,3]\n",
    "\n",
    "print(f\"Mean: {st.mean(raindata)}\\nMedian: {st.median(raindata)}\\nMode: {st.mode(raindata)}\")"
   ]
  },
  {
   "cell_type": "markdown",
   "metadata": {},
   "source": [
    "# Measuring the Spread\n",
    "\n",
    "## InterQuartile Range (IQR)"
   ]
  },
  {
   "cell_type": "code",
   "execution_count": 9,
   "metadata": {},
   "outputs": [
    {
     "name": "stdout",
     "output_type": "stream",
     "text": [
      "Q1 = 12.5\n",
      "Q3 = 15.5\n",
      "IQR = 3.0\n"
     ]
    }
   ],
   "source": [
    "import pandas as pd\n",
    "\n",
    "students = pd.DataFrame({\n",
    "    \"Name\":list(\"ABCDEFG\"),\n",
    "    \"Sex\":list(\"MFMFFMM\"),\n",
    "    \"Age\": [10, 14, 18, 15, 16, 15, 11],\n",
    "    \"School\":\"Primary High High High High High Primary\".split(),\n",
    "    \n",
    "})\n",
    "\n",
    "\n",
    "# 25% quartile or Q1\n",
    "Q1 = float(students.quantile(0.25))\n",
    "\n",
    "# 75% quartile or Q3\n",
    "Q3 = float(students.quantile(0.75))\n",
    "\n",
    "IQR = Q3 - Q1\n",
    "\n",
    "print(f\"{Q1 = }\\n{Q3 = }\\n{IQR = }\")"
   ]
  },
  {
   "cell_type": "markdown",
   "metadata": {},
   "source": [
    "## Variance and STD"
   ]
  },
  {
   "cell_type": "code",
   "execution_count": 14,
   "metadata": {},
   "outputs": [
    {
     "name": "stdout",
     "output_type": "stream",
     "text": [
      "Range: 8\n",
      "Population var: 7.555555555555555\n",
      "Population std: 2.748737083745107\n",
      "Sample var: 8.242424242424242\n",
      "Sample std: 2.8709622502610936\n"
     ]
    }
   ],
   "source": [
    "raindata = [2,5,4,4,0,2,7,8,8,8,1,3]\n",
    "\n",
    "data_range = max(raindata) - min(raindata)\n",
    "\n",
    "print(f\"Range: {data_range}\\nPopulation var: {st.pvariance(raindata)}\\nPopulation std: {st.pstdev(raindata)}\")\n",
    "\n",
    "print(f\"Sample var: {st.variance(raindata)}\\nSample std: {st.stdev(raindata)}\")"
   ]
  },
  {
   "cell_type": "code",
   "execution_count": 21,
   "metadata": {},
   "outputs": [
    {
     "name": "stdout",
     "output_type": "stream",
     "text": [
      "Dataframe variance:\n",
      "Age       19.295455\n",
      "Grades     0.174115\n",
      "dtype: float64\n",
      "\n",
      "Dataframe std: \n",
      "Age       4.392659\n",
      "Grades    0.417271\n",
      "dtype: float64\n"
     ]
    }
   ],
   "source": [
    "df = pd.DataFrame({\n",
    "    \"name\": [\"Liam\", \"Olivia\", \"Noah\", \"Emma\", \"Oliver\", \"Ava\", \"William\", \"Sophia\", \"ELijah\", \"Isabella\", \"James\", \"Charlotte\"],\n",
    "    \"Age\": [20, 24, 21, 23, 32, 25, 23, 31, 30, 32, 26, 22],\n",
    "    \"Grades\": [3.23, 3.24, 3.98, 2.56, 3.20, 3.6, 3.8, 3.7, 2.98, 3.8, 3.10, 3.65],\n",
    "})\n",
    "\n",
    "print(f\"Dataframe variance:\\n{df.var()}\\n\\nDataframe std: \\n{df.std()}\")\n"
   ]
  },
  {
   "cell_type": "code",
   "execution_count": null,
   "metadata": {},
   "outputs": [],
   "source": []
  }
 ],
 "metadata": {
  "kernelspec": {
   "display_name": "Python 3.8.10 64-bit",
   "language": "python",
   "name": "python3"
  },
  "language_info": {
   "codemirror_mode": {
    "name": "ipython",
    "version": 3
   },
   "file_extension": ".py",
   "mimetype": "text/x-python",
   "name": "python",
   "nbconvert_exporter": "python",
   "pygments_lexer": "ipython3",
   "version": "3.8.10"
  },
  "orig_nbformat": 4,
  "vscode": {
   "interpreter": {
    "hash": "916dbcbb3f70747c44a77c7bcd40155683ae19c65e1c03b4aa3499c5328201f1"
   }
  }
 },
 "nbformat": 4,
 "nbformat_minor": 2
}
