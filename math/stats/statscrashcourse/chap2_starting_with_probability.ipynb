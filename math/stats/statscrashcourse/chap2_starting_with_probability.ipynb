{
 "cells": [
  {
   "cell_type": "markdown",
   "metadata": {},
   "source": [
    "# Chapter 2 Notes\n",
    "\n",
    "------\n",
    "\n",
    "# Calculating the probability of events\n",
    "\n",
    "The `frequentist` approach calculates the probability of an event by computing the **relative frequency**:\n",
    "\n",
    "<font size=\"5\">$relative frequency = \\frac{frequency\\:of\\:event}{\\#\\:of\\:total\\:experiment\\:runs}$</font>"
   ]
  },
  {
   "cell_type": "code",
   "execution_count": 1,
   "metadata": {},
   "outputs": [
    {
     "name": "stdout",
     "output_type": "stream",
     "text": [
      "Probability of getting an ace: 0.077\n",
      "Percent chance of getting an ace: 7.7%\n",
      "\n",
      "Probability of getting a red card: 0.5\n",
      "Percent chance of getting a red card: 50.0%\n"
     ]
    }
   ],
   "source": [
    "# sample space\n",
    "num_cards = 52\n",
    "\n",
    "# favorable outcomes\n",
    "num_aces = 4\n",
    "num_hearts = 13\n",
    "num_diamonds = 13\n",
    "\n",
    "# divide favorable outcomes by the total number of elements in the sample space\n",
    "prob_ace = num_aces / num_cards\n",
    "\n",
    "# 13 red heart cards and 13 red diamond cards, so 26 / 52\n",
    "prob_red_card = (num_hearts + num_diamonds) / num_cards\n",
    "\n",
    "print(f\"Probability of getting an ace: {round(prob_ace,3)}\\nPercent chance of getting an ace: {round(prob_ace*100,1)}%\\n\")\n",
    "print(f\"Probability of getting a red card: {round(prob_red_card,3)}\\nPercent chance of getting a red card: {round(prob_red_card*100,1)}%\")"
   ]
  },
  {
   "cell_type": "markdown",
   "metadata": {},
   "source": [
    "## Joint probability\n",
    "\n",
    "`Joint probability` is the probability of two events occuring simutaneously:\n",
    "\n",
    "<font size=\"5\">$P(A\\cap B) = P(A)*P(B)$</font>\n",
    "\n",
    "## Conditional probability\n",
    "\n",
    "`Conditional probability` is the measure of an event occuring given that **another event has already occured**.\n",
    "\n",
    "<font size=\"5\">$P(A|B) = \\frac{P(A\\cap B)}{P(B)}$</font>\n",
    "\n",
    "## Event Dependence and Independence\n",
    "\n",
    "A `dependent` event can only occur if **another event occurs first**. If the order of happening of two events **matters**, one event is `dependent` on the other.\n",
    "\n",
    "- For example, parking a car and getting a parking ticket are dependent events.\n",
    "\n",
    "\n",
    "Two events are said to be `independent` if the occurence of one **does not affect the other**.\n"
   ]
  },
  {
   "cell_type": "code",
   "execution_count": 3,
   "metadata": {},
   "outputs": [
    {
     "name": "stdout",
     "output_type": "stream",
     "text": [
      "Probability of drawing a king and a queen:0.00592\n",
      "Probability of drawing a king after drawing a queen with replacement:0.00592\n",
      "Probability of drawing a king after drawing a queen without replacement:0.00592\n"
     ]
    }
   ],
   "source": [
    "# sample space\n",
    "total_cards = 52\n",
    "cards_drawn = 1\n",
    "\n",
    "# remaining cards when card is drawn in the first place is not replaced\n",
    "rem_cards = total_cards - cards_drawn\n",
    "\n",
    "# calculate the joint probability of drawing a king after drawing a queen in the first draw with replacement\n",
    "queens = 4\n",
    "kings = 4\n",
    "\n",
    "prob_king1 = kings / total_cards # 4 / 52\n",
    "prob_queen1 = queens / total_cards # 4 / 52\n",
    "prob_king_and_queen1 = prob_king1 * prob_queen1 # (4/52) * (4/52)\n",
    "\n",
    "# calculate the joint probability of drawing a king after drawing a queen in the first draw without replacement\n",
    "prob_king2 = kings / rem_cards # 4 / 51\n",
    "prob_queen2 = queens / total_cards # 4 / 52\n",
    "prob_king_and_queen2 = prob_king2 * prob_queen2 # (4/51) * (4/52)\n",
    "\n",
    "print(f\"Probability of drawing a king and a queen:{round(prob_king1 * prob_queen1, 5)}\")\n",
    "print(f\"Probability of drawing a king after drawing a queen with replacement:{round(prob_king_and_queen1, 5)}\")\n",
    "print(f\"Probability of drawing a king after drawing a queen without replacement:{round(prob_king1 * prob_queen2, 5)}\")"
   ]
  },
  {
   "cell_type": "markdown",
   "metadata": {},
   "source": [
    "## Bayes rule\n",
    "\n",
    "`Bayes rule` provides another way to calculate the conditional probability. \n",
    "\n",
    "### Prior probability\n",
    "\n",
    "The `prior probability` is the probability of an event occuring **before new data is collected**. \n",
    "\n",
    "It represents the best assessmernt of an outcome **before new data is collected from an experiment**.\n",
    "\n",
    "### Posterior probability\n",
    "\n",
    "The `posterior probability` is the revised probability of an **event after new data has been collected**.\n",
    "\n",
    "It is calculated by updating the prior probability using `bayes's theorem`.\n",
    "\n",
    "In the example below, `we are given` $P(A), P(B)$ and $P(B|A)$, so we need to find $P(A|B)$\n",
    "\n",
    "We do this by performing the following calculation:\n",
    "\n",
    "<font size=\"5\">$P(A|B) = \\frac{P(B|A)}{P(B)}$</font>"
   ]
  },
  {
   "cell_type": "code",
   "execution_count": 8,
   "metadata": {},
   "outputs": [
    {
     "name": "stdout",
     "output_type": "stream",
     "text": [
      "Posterior probability P(A|B) = 30.0%\n"
     ]
    }
   ],
   "source": [
    "# calculating the probability as a degree of belief\n",
    "# calculating the probability of heart disease when a patient is obese\n",
    "\n",
    "# define a function to find out P(A|B) given P(A), P(B), P(B|A)\n",
    "\n",
    "def bayes_rule(p_a,p_b, p_b_given_a):\n",
    "    \"\"\"Calculates P(A|B)\"\"\"\n",
    "    p_a_given_b = (p_b_given_a * p_a) / p_b\n",
    "    return p_a_given_b\n",
    "\n",
    "p_a = 0.15\n",
    "p_b = 0.1\n",
    "p_b_given_a = 0.2\n",
    "\n",
    "# calculate the posterior P(A|B)\n",
    "p_a_given_b = bayes_rule(p_a, p_b, +p_b_given_a)\n",
    "\n",
    "print(f\"Posterior probability P(A|B) = {round(p_a_given_b * 100, 1)}%\")"
   ]
  }
 ],
 "metadata": {
  "kernelspec": {
   "display_name": "Python 3.8.10 64-bit",
   "language": "python",
   "name": "python3"
  },
  "language_info": {
   "codemirror_mode": {
    "name": "ipython",
    "version": 3
   },
   "file_extension": ".py",
   "mimetype": "text/x-python",
   "name": "python",
   "nbconvert_exporter": "python",
   "pygments_lexer": "ipython3",
   "version": "3.8.10"
  },
  "orig_nbformat": 4,
  "vscode": {
   "interpreter": {
    "hash": "916dbcbb3f70747c44a77c7bcd40155683ae19c65e1c03b4aa3499c5328201f1"
   }
  }
 },
 "nbformat": 4,
 "nbformat_minor": 2
}
