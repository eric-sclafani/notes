{
 "cells": [
  {
   "cell_type": "markdown",
   "metadata": {},
   "source": [
    "# Neural Nets from Scratch\n",
    "\n",
    "This notebook contains material on how to implement feed forward neural nets from scratch, following the book named as such: https://nnfs.io/\n"
   ]
  },
  {
   "cell_type": "code",
   "execution_count": 1,
   "metadata": {},
   "outputs": [],
   "source": [
    "import nnfs\n",
    "from nnfs.datasets import spiral_data\n",
    "import numpy as np\n",
    "import matplotlib.pyplot as plt\n",
    "nnfs.init()"
   ]
  },
  {
   "cell_type": "markdown",
   "metadata": {},
   "source": [
    "# Layers\n",
    "\n",
    "When data forward-propogates through the network, it passes through successive `layers`. In  **`Dense layers`**, each neuron in a layer receives the **weighted sum** of the inputs form the previous layer."
   ]
  },
  {
   "cell_type": "code",
   "execution_count": 2,
   "metadata": {},
   "outputs": [],
   "source": [
    "class DenseLayer:\n",
    "    \n",
    "    def __init__(self, n_inputs, n_neurons):\n",
    "        \n",
    "        # initialize random weights. The shape is (input size, # of desired neurons)\n",
    "        self.weights = 0.01 * np.random.randn(n_inputs, n_neurons) # scale the weights down for faster training\n",
    "        \n",
    "        # initialize biases as zero vectors\n",
    "        self.biases = np.zeros((1, n_neurons))\n",
    "         \n",
    "    def forward(self, inputs):\n",
    "        # weighted sum\n",
    "        self.output = np.dot(inputs, self.weights) + self.biases"
   ]
  },
  {
   "cell_type": "markdown",
   "metadata": {},
   "source": [
    "# Activation functions\n"
   ]
  },
  {
   "cell_type": "code",
   "execution_count": null,
   "metadata": {},
   "outputs": [],
   "source": [
    "class ReLU:\n",
    "    \"\"\"Some notes about ReLU:\n",
    "    1. ReLU is not normalized, meaning values can range from [0,infinity]\n",
    "    2. ReLU outputs are completely independent of each other (exclusive)\n",
    "    3. Because of the two reasons above, ReLU cannot be used in the final layer for predicting probabilities (classification)\n",
    "    4. np.maximum takes the element wise max between two arrays\n",
    "    \"\"\"\n",
    "    \n",
    "    def forward(self, inputs):\n",
    "        \n",
    "        # any negative values are turned into 0\n",
    "        self.output = np.maximum(0, inputs)\n",
    "        \n",
    "class Softmax:\n",
    "    \"\"\"Some notes about softmax:\n",
    "    1. Softmax returns a probability distribution (all the floats add up to 1)\n",
    "    2. Each probability score also represents a confidence score (i.e., [.45, .55] means the model has low confidence)\n",
    "    3. Softmax is almost exclusively used in the output layer\n",
    "    \"\"\"\n",
    "    \n",
    "    def forward(self, inputs):\n",
    "        \n",
    "        \"\"\"More notes:\n",
    "        1. axis=1 specifies that we should only operate across rows, not columns\n",
    "        \n",
    "        2. keepdims=True makes it so the output array has the same dimensions as the input\n",
    "        \n",
    "        3. we subtract the largest of the inputs to prevent \"dead neurons\" and exploding values.\n",
    "            - Dead neurons = when neurons start always outputting a specific value and thus have a zero gradient\n",
    "            - exploding values = when values start getting exponentially large\n",
    "            \n",
    "        4. performing this subtraction scales the values to a range [-1,0]\n",
    "        \n",
    "        \"\"\"\n",
    "        \n",
    "        # get unnormalized probabilities\n",
    "        exp_values = np.exp(inputs - np.max(inputs, axis=1, keepdims=True))\n",
    "        \n",
    "        # normalize them for each sample\n",
    "        probs = exp_values / np.sum(exp_values, axis=1, keepdims=True)\n",
    "        \n",
    "        self.output = probs"
   ]
  },
  {
   "cell_type": "markdown",
   "metadata": {},
   "source": [
    "# Loss functions\n"
   ]
  },
  {
   "cell_type": "code",
   "execution_count": 3,
   "metadata": {},
   "outputs": [],
   "source": [
    "class Loss:\n",
    "    \n",
    "    def calculate(self, output, y):\n",
    "        \n",
    "        # calculate the sample losses\n",
    "        sample_losses = self.forward(output,y)\n",
    "        \n",
    "        # calculate the mean loss\n",
    "        data_loss = np.mean(sample_losses)\n",
    "        \n",
    "        return data_loss\n",
    "    \n",
    "class CategoricalCrossEntropy(Loss):\n",
    "    \n",
    "    def forward(self, y_pred, y_true):\n",
    "        \n",
    "        # number of samples in a batch\n",
    "        samples = len(y_pred)\n",
    "        \n",
    "        # clip data to prevent division by zero\n",
    "        # clip both sides to not drag mean towards any value\\\n",
    "        y_pred_clipped = np.clip(y_pred, 1e-7, 1-1e-7)\n",
    "        \n",
    "        \n",
    "        # probabilities for target values:\n",
    "        \n",
    "        # only if categorical labels (1D one-hot vectors)\n",
    "        if len(y_true.shape) == 1:\n",
    "            correct_confidences = y_pred_clipped[range(samples), y_true]\n",
    "        \n",
    "        # only for one-hot matrices\n",
    "        elif len(y_true.shape) == 2:\n",
    "            correct_confidences = np.sum(y_pred_clipped * y_true, axis=1)\n",
    "            \n",
    "            \n",
    "        # losses\n",
    "        negative_log_likelihoods = -np.log(correct_confidences)\n",
    "        return negative_log_likelihoods"
   ]
  },
  {
   "cell_type": "markdown",
   "metadata": {},
   "source": [
    "# Code execution\n",
    "\n",
    "The following cells are for executing the neural network code"
   ]
  },
  {
   "cell_type": "code",
   "execution_count": null,
   "metadata": {},
   "outputs": [],
   "source": [
    "X,y = spiral_data(samples=100, classes=3)\n",
    "\n",
    "dense1 = DenseLayer(2,3)\n",
    "relu = ReLU()\n",
    "\n",
    "# create second Dense layer as the output layer with 3 input features (output of previous layer) and 3 output values\n",
    "dense2 = DenseLayer(3,3)\n",
    "softmax = Softmax()\n",
    "\n",
    "# instantiate our loss function\n",
    "cce_loss = CategoricalCrossEntropy()\n",
    "\n",
    "\n",
    "# training data forward pass through Dense layer and forward pass through ReLU\n",
    "dense1.forward(X)\n",
    "relu.forward(dense1.output)\n",
    "\n",
    "# make a forward pass through the second Dense layer\n",
    "# takes the output of previous layer as input\n",
    "dense2.forward(relu.output)\n",
    "softmax.forward(dense2.output)\n",
    "\n",
    "print(softmax.output[:5])\n",
    "\n",
    "\n",
    "loss = cce_loss.calculate(softmax.output, y)\n",
    "\n",
    "print(f\"Loss: {loss}\")"
   ]
  }
 ],
 "metadata": {
  "kernelspec": {
   "display_name": "Python 3.8.10 64-bit",
   "language": "python",
   "name": "python3"
  },
  "language_info": {
   "codemirror_mode": {
    "name": "ipython",
    "version": 3
   },
   "file_extension": ".py",
   "mimetype": "text/x-python",
   "name": "python",
   "nbconvert_exporter": "python",
   "pygments_lexer": "ipython3",
   "version": "3.8.10"
  },
  "orig_nbformat": 4,
  "vscode": {
   "interpreter": {
    "hash": "916dbcbb3f70747c44a77c7bcd40155683ae19c65e1c03b4aa3499c5328201f1"
   }
  }
 },
 "nbformat": 4,
 "nbformat_minor": 2
}
