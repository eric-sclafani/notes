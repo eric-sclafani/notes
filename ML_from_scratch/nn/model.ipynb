{
 "cells": [
  {
   "cell_type": "markdown",
   "metadata": {},
   "source": [
    "# Neural Nets from Scratch\n",
    "\n",
    "This notebook contains material on how to implement feed forward neural nets from scratch, following the book named as such: https://nnfs.io/\n"
   ]
  },
  {
   "cell_type": "code",
   "execution_count": 4,
   "metadata": {},
   "outputs": [],
   "source": [
    "import nnfs\n",
    "from nnfs.datasets import spiral_data\n",
    "import numpy as np\n",
    "import matplotlib.pyplot as plt\n",
    "nnfs.init()"
   ]
  },
  {
   "cell_type": "markdown",
   "metadata": {},
   "source": [
    "# Layers\n",
    "\n",
    "When data forward-propogates through the network, it passes through successive `layers`.\n",
    "\n",
    "\n",
    "## Dense layers\n",
    "\n",
    "In  **`Dense layers`**, each neuron in a layer receives the **weighted sum** of the `inputs` and `weights` from the previous layer.\n",
    "\n",
    "- Each data point has a weight assigned to it. So: `len(input) = len(weights)`\n",
    "\n",
    "For each layer, the **input size must match the output size** from the previous layer"
   ]
  },
  {
   "cell_type": "code",
   "execution_count": 5,
   "metadata": {},
   "outputs": [],
   "source": [
    "class DenseLayer:\n",
    "    \n",
    "    def __init__(self, n_inputs, n_neurons):\n",
    "        \n",
    "        # initialize random weights. \n",
    "        # The shape is (input size, # of neurons) instead of (# of neurons, input size) to avoid having to transpose later \n",
    "        self.weights = 0.01 * np.random.randn(n_inputs, n_neurons) # 0.01 scales the weights down for faster training\n",
    "        \n",
    "        # initialize biases as zero vectors\n",
    "        self.biases = np.zeros((1, n_neurons))\n",
    "         \n",
    "    def forward(self, inputs):\n",
    "        # weighted sum\n",
    "        self.output = np.dot(inputs, self.weights) + self.biases"
   ]
  },
  {
   "cell_type": "markdown",
   "metadata": {},
   "source": [
    "# Activation functions\n",
    "\n",
    "`Activation functions` are used to apply transformations (mostly non-linear) to our input data.\n",
    "\n",
    "Most activations are `non-linear` because we want to solve `non-linear` problems.\n",
    "\n",
    "## Sigmoid\n",
    "\n",
    "`Sigmoid` is known as the **squashification** function because it reduces all values into a range of [0,1]\n",
    "\n",
    "Today, `sigmoid` is not used much inside of hidden layers, but sometimes can be found in the output layer for classification tasks.\n",
    "\n",
    "<font size=\"5\"> $y = \\frac{1}{1+ e^{-x}}$ </font>\n",
    "\n",
    "\n",
    "## ReLU\n",
    "\n",
    "`ReLU` is super simple: it takes the **max** between 0 and the input data.\n",
    "\n",
    "`ReLU` is the **most widely used activation** in hidden layers, mainly because of its speed and efficiency\n",
    "\n",
    "$$ y =   \\left\\{\n",
    "\\begin{array}{ll}\n",
    "      x & x>0 \\\\\n",
    "      0 & x \\le 0\\\\\n",
    "\\end{array} \n",
    "\\right.  $$\n",
    "\n",
    "\n",
    "## Softmax\n",
    "\n",
    "`Softmax`, like sigmoid, squishes values into [0,1]. However, it outputs a `probability distribution`, meaning all the output values sum to 1\n",
    "\n",
    "The output values can also be thought of as **`confidence scores`**:\n",
    "\n",
    "- `Higher probability` = higher confidence the model has \n",
    "- `Lower probability` = lower confidence the model has \n",
    "\n",
    "<font size=\"5\">$s_{i,j} = \\frac{e^{z_{i,j}}}{\\sum_{l=1}^L e^{z_{i,j}}}$</font>\n"
   ]
  },
  {
   "cell_type": "code",
   "execution_count": 6,
   "metadata": {},
   "outputs": [],
   "source": [
    "class ReLU:\n",
    "    \"\"\"Some notes about ReLU:\n",
    "    1. ReLU is not normalized, meaning values can range from [0,infinity]\n",
    "    2. ReLU outputs are completely independent of each other (exclusive)\n",
    "    3. Because of the two reasons above, ReLU cannot be used in the final layer for predicting probabilities (classification)\n",
    "    4. np.maximum takes the element wise max between two arrays\n",
    "    \"\"\"\n",
    "    \n",
    "    def forward(self, inputs):\n",
    "        \n",
    "        # any negative values are turned into 0\n",
    "        self.output = np.maximum(0, inputs)\n",
    "       \n",
    "class Softmax:\n",
    "    \"\"\"Some notes about softmax:\n",
    "    1. Softmax returns a probability distribution (all the floats add up to 1)\n",
    "    2. Each probability score also represents a confidence score (i.e., [.45, .55] means the model has low confidence)\n",
    "    3. Softmax is almost exclusively used in the output layer\n",
    "    \"\"\"\n",
    "    \n",
    "    def forward(self, inputs):\n",
    "        \n",
    "        \"\"\"More notes:\n",
    "        1. axis=1 specifies that we should only operate across rows, not columns\n",
    "        \n",
    "        2. keepdims=True makes it so the output array has the same dimensions as the input\n",
    "        \n",
    "        3. we subtract the largest of the inputs to prevent \"dead neurons\" and exploding values.\n",
    "            - Dead neurons = when neurons start always outputting a specific value and thus have a zero gradient\n",
    "            - exploding values = when values start getting exponentially large\n",
    "            \n",
    "        4. performing this subtraction scales the values to a range [-1,0]\n",
    "        \n",
    "        \"\"\"\n",
    "        \n",
    "        # get unnormalized probabilities\n",
    "        exp_values = np.exp(inputs - np.max(inputs, axis=1, keepdims=True))\n",
    "        \n",
    "        # normalize them for each sample\n",
    "        probs = exp_values / np.sum(exp_values, axis=1, keepdims=True)\n",
    "        \n",
    "        self.output = probs"
   ]
  },
  {
   "cell_type": "markdown",
   "metadata": {},
   "source": [
    "# Loss functions\n",
    "\n",
    "`Loss functions` (also knows as **cost functions**) are the mechanism that tells our ML algorithms how wrong the predictions were.\n",
    "\n",
    "Loss functions are different depending on whether you're doing **regression** or **classification**\n",
    "\n",
    "Because neural networks output `confidence levels`, simply taking the **argmax** of an output vector will not suffice.\n",
    "\n",
    "\n",
    "## Categorical Cross Entropy Loss\n",
    "\n",
    "`Categorical Cross Entropy` (or **CCE**) is used to compare a `target probability distribution` ($y$) and some `predicted probability distribution` ($\\hat{y}$).\n",
    "\n",
    "Often used as loss when **softmax** is in the output layer.\n",
    "\n",
    "<font size=\"5\"> $L_i = -\\sum_j y_{i,j} log(\\hat{y}_{i,j})$</font>\n",
    "\n",
    "where:\n",
    "- $L_i$ = sample loss value\n",
    "- $i$ = $i$-th sample\n",
    "- $j$ = label/output index\n",
    "- $y$ = target values\n",
    "- $\\hat{y}$ = predicted values\n",
    "\n",
    "\n",
    "The equation above, however, can be simplified to:\n",
    "\n",
    "<font size=\"5\"> $L_i = -log(\\hat{y}_{i,k})$</font>\n",
    "\n",
    "where:\n",
    "- $k$ = index of the \"true\" probability\n",
    "\n",
    "We can simplify to this equation because the targets (in this case) are `sparse vectors` or `sparse matrices` (one-hot).\n",
    "\n",
    "This means our targets will only ever be 1 or 0, allowing us to make simplifications."
   ]
  },
  {
   "cell_type": "code",
   "execution_count": 3,
   "metadata": {},
   "outputs": [],
   "source": [
    "class Loss:\n",
    "    \n",
    "    def calculate(self, output, y):\n",
    "        \n",
    "        # calculate the sample losses\n",
    "        sample_losses = self.forward(output,y)\n",
    "        \n",
    "        # calculate the mean loss\n",
    "        data_loss = np.mean(sample_losses)\n",
    "        \n",
    "        return data_loss\n",
    "    \n",
    "class CategoricalCrossEntropy(Loss):\n",
    "    \n",
    "    def forward(self, y_pred, y_true):\n",
    "        \n",
    "        # number of samples in a batch\n",
    "        samples = len(y_pred)\n",
    "        \n",
    "        # np.clip will turn every value under the minimum into a_min, and every value over the maximum to a_max\n",
    "        \n",
    "        # clip data to prevent division by zero\n",
    "        # clip both sides to not drag mean towards any value\n",
    "        y_pred_clipped = np.clip(y_pred, a_min=1e-7, a_max=1-1e-7)\n",
    "        \n",
    "        \n",
    "        #! probabilities for target values:\n",
    "        \n",
    "        # only if categorical labels (1D one-hot vectors)\n",
    "        if len(y_true.shape) == 1:\n",
    "            correct_confidences = y_pred_clipped[range(samples), y_true]\n",
    "        \n",
    "        # only for one-hot matrices\n",
    "        elif len(y_true.shape) == 2:\n",
    "            correct_confidences = np.sum(y_pred_clipped * y_true, axis=1)\n",
    "            \n",
    "            \n",
    "        # losses\n",
    "        negative_log_likelihoods = -np.log(correct_confidences)\n",
    "        return negative_log_likelihoods"
   ]
  },
  {
   "cell_type": "markdown",
   "metadata": {},
   "source": [
    "# Code execution\n",
    "\n",
    "The following cells are for executing and testing the neural network code"
   ]
  },
  {
   "cell_type": "code",
   "execution_count": 17,
   "metadata": {},
   "outputs": [
    {
     "name": "stdout",
     "output_type": "stream",
     "text": [
      "Softmax output:\n",
      " [[0.33333334 0.33333334 0.33333334]\n",
      " [0.33333308 0.33333337 0.33333355]\n",
      " [0.33333322 0.33333355 0.33333322]\n",
      " [0.33333248 0.33333322 0.33333427]\n",
      " [0.33333248 0.33333355 0.33333403]]\n",
      "Loss: 1.0986123085021973\n"
     ]
    }
   ],
   "source": [
    "X,y = spiral_data(samples=100, classes=3)\n",
    "\n",
    "# layer one: two input features, 3 neurons\n",
    "dense1 = DenseLayer(2,3)\n",
    "relu = ReLU()\n",
    "\n",
    "# create second Dense layer as the output layer with 3 input features (output of previous layer) and 3 output values\n",
    "dense2 = DenseLayer(3,3)\n",
    "softmax = Softmax()\n",
    "\n",
    "# instantiate our loss function\n",
    "cce_loss = CategoricalCrossEntropy()\n",
    "\n",
    "# training data forward pass through Dense layer and forward pass through ReLU\n",
    "dense1.forward(X)\n",
    "relu.forward(dense1.output)\n",
    "\n",
    "# make a forward pass through the second Dense layer\n",
    "# takes the output of previous layer as input\n",
    "dense2.forward(relu.output)\n",
    "softmax.forward(dense2.output)\n",
    "\n",
    "print(\"Softmax output:\\n\",softmax.output[:5])\n",
    "\n",
    "loss = cce_loss.calculate(softmax.output, y)\n",
    "\n",
    "print(f\"Loss: {loss}\")"
   ]
  },
  {
   "cell_type": "code",
   "execution_count": 16,
   "metadata": {},
   "outputs": [
    {
     "name": "stdout",
     "output_type": "stream",
     "text": [
      "Accuracy: 0.3433333333333333\n"
     ]
    }
   ],
   "source": [
    "\n",
    "# ! Accuracy calculation\n",
    "# !we can calculate the accuracy of our model from the softmax output and targets\n",
    "\n",
    "# calculate values along the second axis\n",
    "predictions = np.argmax(softmax.output, axis=1)\n",
    "\n",
    "# if targets are one-hot matrices, convert them\n",
    "if len(y.shape) == 2:\n",
    "    y = np.argmax(y, axis=1)\n",
    "\n",
    "accuracy = np.mean(predictions == y)\n",
    "\n",
    "print(f\"Accuracy: {accuracy}\")"
   ]
  },
  {
   "cell_type": "code",
   "execution_count": null,
   "metadata": {},
   "outputs": [],
   "source": []
  }
 ],
 "metadata": {
  "kernelspec": {
   "display_name": "Python 3.8.10 64-bit",
   "language": "python",
   "name": "python3"
  },
  "language_info": {
   "codemirror_mode": {
    "name": "ipython",
    "version": 3
   },
   "file_extension": ".py",
   "mimetype": "text/x-python",
   "name": "python",
   "nbconvert_exporter": "python",
   "pygments_lexer": "ipython3",
   "version": "3.8.10"
  },
  "orig_nbformat": 4,
  "vscode": {
   "interpreter": {
    "hash": "916dbcbb3f70747c44a77c7bcd40155683ae19c65e1c03b4aa3499c5328201f1"
   }
  }
 },
 "nbformat": 4,
 "nbformat_minor": 2
}
