{
 "cells": [
  {
   "cell_type": "markdown",
   "metadata": {},
   "source": [
    "# Backpropogation\n",
    "\n",
    "`Backpropogation` is the algorithm used in NNs to update the **weights** and **biases**.\n",
    "\n",
    "In other words, it is the algorithm that operates over our functions in the NN (**loss**, **activations**, etc...) and determines the affect that each input has on these functions.\n",
    "\n",
    "`Backpropogation` uses **derivatives** and **partial** derivatives to achieve this\n",
    "\n",
    "---------------\n",
    "\n",
    "Before implementing `backpropogation` for a full NN, lets practice with the algorithm first by applying it to ReLU first."
   ]
  },
  {
   "cell_type": "code",
   "execution_count": 1,
   "metadata": {},
   "outputs": [
    {
     "name": "stdout",
     "output_type": "stream",
     "text": [
      "Full forwards pass through a single neuron and ReLU\n",
      "\n",
      "xw0 = -3.0\n",
      "xw1 = 2.0\n",
      "xw2 = 6.0\n",
      "\n",
      "z = 6.0 (weighted sum)\n",
      "ReLU = 6.0\n"
     ]
    }
   ],
   "source": [
    "\n",
    "print(\"Full forwards pass through a single neuron and ReLU\\n\")\n",
    "\n",
    "# forward pass \n",
    "x = [1.0, -2.0, 3.0] # inputs\n",
    "w = [-3.0, -1.0, 2.0] # weights\n",
    "b = 1.0 # bias\n",
    "\n",
    "# multiplying inputs by weights ()\n",
    "xw0 = x[0] * w[0]\n",
    "xw1 = x[1] * w[1]\n",
    "xw2 = x[2] * w[2]\n",
    "print(f\"{xw0 = }\\n{xw1 = }\\n{xw2 = }\")\n",
    "\n",
    "# weighted sum (received by the first hidden layer)\n",
    "z = xw0 + xw1 + xw2 + b\n",
    "print(f\"\\n{z = } (weighted sum)\")\n",
    "\n",
    "# ReLU\n",
    "ReLU = max(z,0)\n",
    "print(f\"{ReLU = }\")"
   ]
  },
  {
   "cell_type": "markdown",
   "metadata": {},
   "source": [
    "Recall that the `derivative` of $ReLU()$ with respect to its input is $1$ **if the input is greater than 0** and $0$ otherwise:\n",
    "\n",
    "<font size=\"5\"> $f(x) = max(x,0) ⟶ \\frac{d}{dx}f(x) = 1 (x\\gt 0)$ </font>"
   ]
  },
  {
   "cell_type": "code",
   "execution_count": 2,
   "metadata": {},
   "outputs": [
    {
     "data": {
      "text/plain": [
       "1.0"
      ]
     },
     "execution_count": 2,
     "metadata": {},
     "output_type": "execute_result"
    }
   ],
   "source": [
    "\n",
    "#? FORWARD PASS\n",
    "\n",
    "x = [1.0, -2.0, 3.0] \n",
    "w = [-3.0, -1.0, 2.0] \n",
    "b = 1.0 \n",
    "xw0 = x[0] * w[0]\n",
    "xw1 = x[1] * w[1]\n",
    "xw2 = x[2] * w[2]\n",
    "z = xw0 + xw1 + xw2 + b\n",
    "ReLU = max(z,0)\n",
    "           \n",
    "           \n",
    "#! BACKWARD PASS            \n",
    "\n",
    "# derivative from the next layer (random just for this example)         \n",
    "dvalue = 1.0           \n",
    "\n",
    "# derivative of ReLU with respect to z and the chain rule\n",
    "drelu_dz = dvalue * (1. if z > 0 else 0.)"
   ]
  },
  {
   "cell_type": "code",
   "execution_count": null,
   "metadata": {},
   "outputs": [],
   "source": []
  }
 ],
 "metadata": {
  "kernelspec": {
   "display_name": "Python 3.8.10 64-bit",
   "language": "python",
   "name": "python3"
  },
  "language_info": {
   "codemirror_mode": {
    "name": "ipython",
    "version": 3
   },
   "file_extension": ".py",
   "mimetype": "text/x-python",
   "name": "python",
   "nbconvert_exporter": "python",
   "pygments_lexer": "ipython3",
   "version": "3.8.10"
  },
  "orig_nbformat": 4,
  "vscode": {
   "interpreter": {
    "hash": "916dbcbb3f70747c44a77c7bcd40155683ae19c65e1c03b4aa3499c5328201f1"
   }
  }
 },
 "nbformat": 4,
 "nbformat_minor": 2
}
