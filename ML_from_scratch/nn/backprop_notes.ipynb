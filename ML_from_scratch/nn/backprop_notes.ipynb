{
 "cells": [
  {
   "cell_type": "markdown",
   "metadata": {},
   "source": [
    "# Backpropogation\n",
    "\n",
    "`Backpropogation` is the algorithm used in NNs to update the **weights** and **biases**.\n",
    "\n",
    "In other words, it is the algorithm that operates over our functions in the NN (**loss**, **activations**, etc...) and determines the affect that each input has on these functions.\n",
    "\n",
    "`Backpropogation` uses **derivatives** and **partial** derivatives to achieve this\n",
    "\n",
    "---------------\n",
    "\n",
    "Before implementing `backpropogation` for a full NN, lets practice with the algorithm first by applying it to ReLU first."
   ]
  },
  {
   "cell_type": "code",
   "execution_count": 1,
   "metadata": {},
   "outputs": [
    {
     "name": "stdout",
     "output_type": "stream",
     "text": [
      "Full forwards pass through a single neuron and ReLU\n",
      "\n",
      "xw0 = -3.0\n",
      "xw1 = 2.0\n",
      "xw2 = 6.0\n",
      "\n",
      "z = 6.0 (weighted sum)\n",
      "ReLU = 6.0\n"
     ]
    }
   ],
   "source": [
    "\n",
    "print(\"Full forwards pass through a single neuron and ReLU\\n\")\n",
    "\n",
    "# forward pass \n",
    "x = [1.0, -2.0, 3.0] # inputs\n",
    "w = [-3.0, -1.0, 2.0] # weights\n",
    "b = 1.0 # bias\n",
    "\n",
    "# multiplying inputs by weights \n",
    "xw0 = x[0] * w[0]\n",
    "xw1 = x[1] * w[1]\n",
    "xw2 = x[2] * w[2]\n",
    "print(f\"{xw0 = }\\n{xw1 = }\\n{xw2 = }\")\n",
    "\n",
    "# weighted sum (received by the first hidden layer)\n",
    "z = xw0 + xw1 + xw2 + b\n",
    "print(f\"\\n{z = } (weighted sum)\")\n",
    "\n",
    "# ReLU\n",
    "ReLU = max(z,0)\n",
    "print(f\"{ReLU = }\")"
   ]
  },
  {
   "cell_type": "markdown",
   "metadata": {},
   "source": [
    "Recall that the `derivative` of $ReLU()$ with respect to its input is $1$ **if the input is greater than 0** and $0$ otherwise:\n",
    "\n",
    "<font size=\"5\"> $f(x) = max(x,0) ⟶ \\frac{d}{dx}f(x) = 1 (x\\gt 0)$ </font>\n",
    "\n",
    "Now that we've taken the **weighted sum** (`z`) and passed it through `ReLU`, we hae completed a full **`forward pass`**. \n",
    "\n",
    "Now, we can start backpropogating. \n",
    "\n",
    "First, we take the **derivative** of `ReLU`"
   ]
  },
  {
   "cell_type": "code",
   "execution_count": 3,
   "metadata": {},
   "outputs": [
    {
     "name": "stdout",
     "output_type": "stream",
     "text": [
      "1.0\n"
     ]
    }
   ],
   "source": [
    "\n",
    "#? FORWARD PASS\n",
    "\n",
    "x = [1.0, -2.0, 3.0] \n",
    "w = [-3.0, -1.0, 2.0] \n",
    "b = 1.0 \n",
    "xw0 = x[0] * w[0]\n",
    "xw1 = x[1] * w[1]\n",
    "xw2 = x[2] * w[2]\n",
    "z = xw0 + xw1 + xw2 + b\n",
    "ReLU = max(z,0)\n",
    "           \n",
    "           \n",
    "#! BACKWARD PASS            \n",
    "\n",
    "# derivative from the next layer (randomly chosen just for this example)         \n",
    "dvalue = 1.0           \n",
    "\n",
    "# derivative of ReLU with respect to z and the chain rule: dvalue is the derivative from the next layer\n",
    "# 1 if input (z) is greater than 0 else 0\n",
    "drelu_dz = dvalue * (1. if z > 0 else 0.)\n",
    "print(drelu_dz)"
   ]
  },
  {
   "cell_type": "markdown",
   "metadata": {},
   "source": [
    "Moving backward, the next function that comes immediately before the activation is the **weighted sum** (the sum of the multiplied $xw$ pairs).\n",
    "\n",
    "This means that we want to calculate the **partial derivative** of the sum function and `using the chain rule,` multiply this by the **partial derivative** of the subsequent, outer function, which is **`ReLU`**\n",
    "\n",
    "We'll call these results the:\n",
    "\n",
    "- `drelu_dxw0` - the partial **d**erivative of the **ReLU** w.r.t. the first weighted input, $w_0x_0$\n",
    "- `drelu_dxw1` - the partial **d**erivative of the **ReLU** w.r.t. the first weighted input, $w_1x_1$\n",
    "- `drelu_dxw2` - the partial **d**erivative of the **ReLU** w.r.t. the first weighted input, $w_2x_2$\n",
    "- `drelu_db` - the partial **d**erivative of the **ReLU** w.r.t. the first weighted input, $b$\n",
    "\n",
    "The **partial derivative**of the `sum operation` is always 1, no matter the inputs."
   ]
  },
  {
   "cell_type": "code",
   "execution_count": 6,
   "metadata": {},
   "outputs": [
    {
     "name": "stdout",
     "output_type": "stream",
     "text": [
      "drelu_dxw0 = 1.0\n",
      "drelu_dxw1 = 1.0\n",
      "drelu_dxw2 = 1.0\n",
      "drelu_db = 1\n",
      "\n"
     ]
    }
   ],
   "source": [
    "x = [1.0, -2.0, 3.0] \n",
    "w = [-3.0, -1.0, 2.0] \n",
    "b = 1.0 \n",
    "xw0 = x[0] * w[0]\n",
    "xw1 = x[1] * w[1]\n",
    "xw2 = x[2] * w[2]\n",
    "z = xw0 + xw1 + xw2 + b\n",
    "ReLU = max(z,0)\n",
    "                   \n",
    "dvalue = 1.0           \n",
    "\n",
    "drelu_dz = dvalue * (1. if z > 0 else 0.)\n",
    "\n",
    "# partial derivative of the sum with respect to the x (input), weighted, for the 0th pair of inputs and weights\n",
    "dsum_dxw0 = 1\n",
    "# partial derivative of the multiplication, the chain rule\n",
    "drelu_dxw0 = drelu_dz * dsum_dxw0\n",
    "\n",
    "dsum_dxw1 = 1\n",
    "drelu_dxw1 = drelu_dz * dsum_dxw1\n",
    "\n",
    "\n",
    "dsum_dxw2 = 1\n",
    "drelu_dxw2 = drelu_dz * dsum_dxw2\n",
    "\n",
    "dsum_db = 1\n",
    "drelu_db = dsum_db * dsum_dxw2\n",
    "\n",
    "print(f\"{drelu_dxw0 = }\\n{drelu_dxw1 = }\\n{drelu_dxw2 = }\\n{drelu_db = }\\n\")"
   ]
  },
  {
   "cell_type": "markdown",
   "metadata": {},
   "source": [
    "Continuing backward, the function that comes before the sum is the **multiplication of weights and inputs**.\n",
    "\n",
    "The derivative for a product is whatever the input is being multiplied by:\n",
    "\n",
    "<font size=\"5\">$f(x,y) = x * y → \\frac{\\partial}{\\partial x}f(x,y) = y$</font>\n",
    "\n",
    "<font size=\"5\">$f(x,y) = x * y → \\frac{\\partial}{\\partial y}f(x,y) = x$</font>\n",
    "\n",
    "Following this rule, the partial derivative for the first _weighted input_ with respect to the _input_ simply equals the weight\n",
    "\n",
    "-----\n",
    "\n",
    "Then, we apply the **chain rule** and multiply this partial derivative with the partial derivative of the subsequent function, which is the sum"
   ]
  },
  {
   "cell_type": "code",
   "execution_count": null,
   "metadata": {},
   "outputs": [],
   "source": [
    "dmul_dx0 = w[0]\n",
    "\n",
    "drelu_dx0 = drelu_dxw0 * dmul_dx0"
   ]
  },
  {
   "cell_type": "markdown",
   "metadata": {},
   "source": [
    "By working our way backward, taking the derivative of `ReLU` , the derivative of `sum` and multiplyig both, and so on, we are performing **`backpropagation`** using the **chain rule**.\n",
    "\n",
    "As the name implies, the resulting `output function's gradients` are **passed back through the neural network**, using `multiplication of the gradient of subsequent functions` from later layers with the current one\n",
    "\n"
   ]
  },
  {
   "cell_type": "code",
   "execution_count": 9,
   "metadata": {},
   "outputs": [],
   "source": [
    "x = [1.0, -2.0, 3.0] \n",
    "w = [-3.0, -1.0, 2.0] \n",
    "b = 1.0 \n",
    "xw0 = x[0] * w[0]\n",
    "xw1 = x[1] * w[1]\n",
    "xw2 = x[2] * w[2]\n",
    "z = xw0 + xw1 + xw2 + b\n",
    "ReLU = max(z,0)\n",
    "                   \n",
    "dvalue = 1.0\n",
    "drelu_dz = dvalue * (1. if z > 0 else 0.)\n",
    "\n",
    "\n",
    "# partial derivatives of the multipliation, chain rule\n",
    "dsum_dxw0 = 1\n",
    "dsum_dxw1 = 1\n",
    "dsum_dxw2 = 1\n",
    "dsum_db = 1\n",
    "\n",
    "drelu_dxw0 = drelu_dz * dsum_dxw0\n",
    "drelu_dxw1 = drelu_dz * dsum_dxw1\n",
    "drelu_dxw2 = drelu_dz * dsum_dxw2\n",
    "drelu_db = dsum_db * dsum_dxw2\n",
    "\n",
    "dmul_dx0 = w[0]\n",
    "dmul_dx1 = w[1]\n",
    "dmul_dx2 = w[2]\n",
    "dmul_dw0 = x[0]\n",
    "dmul_dw1 = x[1]\n",
    "dmul_dw2 = x[2]\n",
    "\n",
    "drelu_dx0 = drelu_dxw0 * dmul_dx0\n",
    "drelu_dw0 = drelu_dxw0 * dmul_dw0\n",
    "\n",
    "drelu_dx1 = drelu_dxw1 * dmul_dx1\n",
    "drelu_dw1 = drelu_dxw1 * dmul_dw1\n",
    "\n",
    "drelu_dx2 = drelu_dxw2 * dmul_dx2\n",
    "drelu_dw2 = drelu_dxw2 * dmul_dw2"
   ]
  },
  {
   "cell_type": "code",
   "execution_count": 10,
   "metadata": {},
   "outputs": [],
   "source": [
    "# the gradients can also be represented as:\n",
    "dx = [drelu_dx0, drelu_dx1, drelu_dx2]\n",
    "dw = [drelu_dw0, drelu_dw1, drelu_dw2]\n",
    "db = drelu_db"
   ]
  },
  {
   "cell_type": "markdown",
   "metadata": {},
   "source": [
    "Continuing with the single neuron example, we can now apply these gradients to the weights to hopefully minimize the output. \n",
    "\n",
    "This is typically the purpose of the **`optimizer`**. For now, we can simplify for this example by applying a negative fraction of the gradient to the weights.\n",
    "\n",
    "We apply this negative fraction to the gradient since we want to **decrease the final output value**. \n",
    "\n",
    "Essentially, the `gradient` shows us the direction of the **steepest ascent**, so we negate it to go in the direction of the **steepest descent**"
   ]
  },
  {
   "cell_type": "code",
   "execution_count": 13,
   "metadata": {},
   "outputs": [
    {
     "name": "stdout",
     "output_type": "stream",
     "text": [
      "[-3.001, -0.998, 1.997] 0.999\n"
     ]
    }
   ],
   "source": [
    "w[0] += -.001 * dw[0]\n",
    "w[1] += -.001 * dw[1]\n",
    "w[2] += -.001 * dw[2]\n",
    "b += -.001 * db\n",
    "print(w,b)\n"
   ]
  },
  {
   "cell_type": "markdown",
   "metadata": {},
   "source": [
    "Now, we've slightly changed the weights and bias **to decrease the output somewhat intelligently**.\n",
    "\n",
    "We can see the effects of our tweaks on the output by doing another `forward pass`:\n"
   ]
  },
  {
   "cell_type": "code",
   "execution_count": 14,
   "metadata": {},
   "outputs": [
    {
     "name": "stdout",
     "output_type": "stream",
     "text": [
      "5.985\n"
     ]
    }
   ],
   "source": [
    "xw0 = x[0] * w[0]\n",
    "xw1 = x[1] * w[1]\n",
    "xw2 = x[2] * w[2]\n",
    "\n",
    "z = xw0 + xw1 + xw2 + b\n",
    "\n",
    "ReLU = max(z, 0)\n",
    "print(ReLU)"
   ]
  },
  {
   "cell_type": "markdown",
   "metadata": {},
   "source": [
    "\n",
    "Note that in real NNs, decreasing the neuron output is not the goal. We were doing this purely for this exercise. \n",
    "\n",
    "Instead, we need to decrease the **loss value**.\n",
    "\n",
    "------\n",
    "\n",
    "Instead of performing backprop on a single neuron, lets move to a `layer of neurons`:\n",
    "\n",
    "- 3 samples of input\n",
    "- Each sample contains 4 features"
   ]
  },
  {
   "cell_type": "code",
   "execution_count": 24,
   "metadata": {},
   "outputs": [
    {
     "name": "stdout",
     "output_type": "stream",
     "text": [
      "[ 0.44 -0.38 -0.07  1.37]\n"
     ]
    }
   ],
   "source": [
    "import numpy as np\n",
    "\n",
    "\n",
    "# passed in gradient from the next layer (aka the gradient of the subsequent function)\n",
    "# for this example, we're going to use a one-vector\n",
    "dvalues = np.ones(shape=(1,3))\n",
    "\n",
    "# we have 3 sets of weights --- one set for each neuron\n",
    "# we have 4 inputs, thus 4 weights\n",
    "# recall that we keep weights transposed\n",
    "weights = np.array([[0.2, 0.8, -0.5, 1],\n",
    "                    [0.5, -0.91, 0.26, -0.5,],\n",
    "                    [-0.26, -0.27, 0.17, 0.87]]).T\n",
    "\n",
    "# sum weights of given input\n",
    "# and multiply by the passed-in gradient for this neuron\n",
    "dx0 = sum(weights[0] * dvalues[0])\n",
    "dx1 = sum(weights[1] * dvalues[0])\n",
    "dx2 = sum(weights[2] * dvalues[0])\n",
    "dx3 = sum(weights[3] * dvalues[0])\n",
    "\n",
    "# gradient of the neuron function with respect to inputs\n",
    "dinputs = np.array([dx0, dx1, dx2, dx3])\n",
    "print(dinputs)\n",
    "\n"
   ]
  },
  {
   "cell_type": "markdown",
   "metadata": {},
   "source": [
    "We can simplify the `summation` and `multiplication` as a **`dot product`**.\n",
    "\n",
    "We need the output of `np.dot` to be of the shape of the gradient from the subsequent function."
   ]
  },
  {
   "cell_type": "code",
   "execution_count": 31,
   "metadata": {},
   "outputs": [],
   "source": [
    "# passed in gradient from the next layer (aka the gradient of the subsequent function)\n",
    "# for this example, we're going to use a one-vector\n",
    "dvalues = np.array([[1., 1., 1.],\n",
    "                    [2., 2., 2.,],\n",
    "                    [3., 3., 3.]])\n",
    "\n",
    "inputs = np.array([[1, 2, 3, 3.5],\n",
    "                   [2., 5., -1., 2],\n",
    "                   [-1.5, 2.7, 3.3, -0.8]])\n",
    "\n",
    "# we have 3 sets of weights --- one set for each neuron\n",
    "# we have 4 inputs, thus 4 weights\n",
    "# recall that we keep weights transposed\n",
    "weights = np.array([[0.2, 0.8, -0.5, 1],\n",
    "                    [0.5, -0.91, 0.26, -0.5,],\n",
    "                    [-0.26, -0.27, 0.17, 0.87]]).T\n",
    "\n",
    "# gradient of the neuron function with respect to the weights\n",
    "dweights = np.dot(inputs.T, dvalues)\n",
    "\n",
    "\n"
   ]
  },
  {
   "cell_type": "code",
   "execution_count": 34,
   "metadata": {},
   "outputs": [
    {
     "data": {
      "text/plain": [
       "array([[6., 6., 6.]])"
      ]
     },
     "execution_count": 34,
     "metadata": {},
     "output_type": "execute_result"
    }
   ],
   "source": [
    "# one bias for each neuron\n",
    "# biases are the row vector with a shape (1, neurons)\n",
    "biases = np.array([[2, 3, 0.5]])\n",
    "\n",
    "# dbiases - sum values, do this over samples (first axis), keepdims\n",
    "# since this by default will produce an array (this param keeps the dimension of the input, in this case a matrix or 2D-array)\n",
    "dbiases = np.sum(dvalues, axis=0, keepdims=True)\n"
   ]
  },
  {
   "cell_type": "code",
   "execution_count": 36,
   "metadata": {},
   "outputs": [
    {
     "data": {
      "text/plain": [
       "array([[ 1,  2,  0,  0],\n",
       "       [ 5,  0,  0,  8],\n",
       "       [ 0, 10, 11,  0]])"
      ]
     },
     "execution_count": 36,
     "metadata": {},
     "output_type": "execute_result"
    }
   ],
   "source": [
    "z = np.array([[1, 2,-3, -4],\n",
    "              [2, -7, -1, 3],\n",
    "              [-1, 2, 5, -1]])\n",
    "\n",
    "dvalues = np.array([[1,2,3,4],\n",
    "                    [5,6,7,8],\n",
    "                    [9,10,11,12]])\n",
    "\n",
    "# ReLU's derivative\n",
    "drelu = np.zeros_like(z) # zeros_like creates an array of same shape as input array\n",
    "drelu[z > 0] = 1 # performs element-wise comparison between drelu(zero matrix) and z\n",
    "\n",
    "# chain rule\n",
    "drelu *= dvalues\n",
    "\n",
    "drelu\n"
   ]
  },
  {
   "cell_type": "code",
   "execution_count": 37,
   "metadata": {},
   "outputs": [
    {
     "data": {
      "text/plain": [
       "array([[ 1,  2,  0,  0],\n",
       "       [ 5,  0,  0,  8],\n",
       "       [ 0, 10, 11,  0]])"
      ]
     },
     "execution_count": 37,
     "metadata": {},
     "output_type": "execute_result"
    }
   ],
   "source": [
    "z = np.array([[1, 2,-3, -4],\n",
    "              [2, -7, -1, 3],\n",
    "              [-1, 2, 5, -1]])\n",
    "\n",
    "dvalues = np.array([[1,2,3,4],\n",
    "                    [5,6,7,8],\n",
    "                    [9,10,11,12]])\n",
    "\n",
    "drelu = dvalues.copy()\n",
    "drelu[z <= 0] = 0\n",
    "drelu"
   ]
  },
  {
   "cell_type": "markdown",
   "metadata": {},
   "source": [
    "Lets combine the **forward** and **backward** pass of a single neuron with a full layer and batch-based partial derivatives.\n",
    "\n",
    "Again, we'll **minimize ReLU output** only for this example:"
   ]
  },
  {
   "cell_type": "code",
   "execution_count": 39,
   "metadata": {},
   "outputs": [
    {
     "name": "stdout",
     "output_type": "stream",
     "text": [
      "[[ 0.179515   0.5003665 -0.262746 ]\n",
      " [ 0.742093  -0.9152577 -0.2758402]\n",
      " [-0.510153   0.2529017  0.1629592]\n",
      " [ 0.971328  -0.5021842  0.8636583]]\n",
      "[[1.98489  2.997739 0.497389]]\n"
     ]
    }
   ],
   "source": [
    "# passed-in gradient from the next layer\n",
    "# for this example, were going to use\n",
    "# an array of incremental gradient values\n",
    "dvalues = np.array([[1,1,1],\n",
    "                    [2,2,2],\n",
    "                    [3,3,3]])\n",
    "\n",
    "# we have 3 sets of inputs - samples\n",
    "inputs = np.array([[1,2,3,2.5],\n",
    "                   [2,5,-1,2],\n",
    "                   [-1.5, 2.7, 3.3, -0.8]])\n",
    "\n",
    "weights = np.array([[0.2, 0.8, -0.5, 1],\n",
    "                    [0.5, -0.91, 0.26, -0.5],\n",
    "                    [-0.26, -0.27, 0.17, 0.87]]).T\n",
    "\n",
    "biases = np.array([[2,3,0.5]])\n",
    "\n",
    "# forward pass\n",
    "layer_outputs = np.dot(inputs, weights) + biases # Dense layer\n",
    "relu_outputs = np.maximum(0, layer_outputs)\n",
    "\n",
    "drelu = relu_outputs.copy()\n",
    "drelu[layer_outputs <= 0] = 0\n",
    "\n",
    "# Dense layer\n",
    "# dinputs - multiply by weights\n",
    "dinputs = np.dot(drelu, weights.T)\n",
    "\n",
    "dweights = np.dot(inputs.T, drelu)\n",
    "\n",
    "dbiases = np.sum(drelu, axis=0, keepdims=True)\n",
    "\n",
    "weights += -0.001 * dweights\n",
    "biases += -0.001 * dbiases\n",
    "\n",
    "print(weights,biases, sep=\"\\n\")"
   ]
  },
  {
   "cell_type": "code",
   "execution_count": null,
   "metadata": {},
   "outputs": [],
   "source": []
  }
 ],
 "metadata": {
  "kernelspec": {
   "display_name": "Python 3.8.10 64-bit",
   "language": "python",
   "name": "python3"
  },
  "language_info": {
   "codemirror_mode": {
    "name": "ipython",
    "version": 3
   },
   "file_extension": ".py",
   "mimetype": "text/x-python",
   "name": "python",
   "nbconvert_exporter": "python",
   "pygments_lexer": "ipython3",
   "version": "3.8.10"
  },
  "orig_nbformat": 4,
  "vscode": {
   "interpreter": {
    "hash": "916dbcbb3f70747c44a77c7bcd40155683ae19c65e1c03b4aa3499c5328201f1"
   }
  }
 },
 "nbformat": 4,
 "nbformat_minor": 2
}
